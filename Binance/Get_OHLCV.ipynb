{
 "cells": [
  {
   "cell_type": "code",
   "execution_count": 1,
   "id": "980c08ef",
   "metadata": {},
   "outputs": [],
   "source": [
    "import ccxt\n",
    "import pandas as pd\n",
    "import datetime\n",
    "import time\n",
    "import os\n",
    "import re\n",
    "\n",
    "# 기본 설정\n",
    "binance = ccxt.binance(config={\n",
    "    'options': {\"defaultType\" : \"future\"}\n",
    "})\n",
    "\n",
    "### 데이터 다운 및 업데이트 하기\n",
    "def Save_and_Update_Data(coin, save_path):\n",
    "    file_name = coin.replace(\"/USDT\",\"_M\") # 이름 수정\n",
    "    \n",
    "    if os.path.exists(os.path.join(save_path, f\"{file_name}.xlsx\"))==True: # 파일이 존재할 경우\n",
    "        df = pd.read_excel(os.path.join(save_path,f\"{file_name}.xlsx\"),index_col=0)\n",
    "        past = datetime.datetime.strptime(str(df.iloc[-1].name), f'%Y-%m-%d %H:%M:00')\n",
    "        now = datetime.datetime.now().strftime(f'%Y-%m-%d %H:%M:00')\n",
    "        now = datetime.datetime.strptime(now, f'%Y-%m-%d %H:%M:00')\n",
    "        diff = str(now-past)\n",
    "        h, m, s = list(map(int, diff.split(\":\")))\n",
    "        total_time_diff = (h * 60) + m + s # 분으로 환산\n",
    "        total_time_diff\n",
    "\n",
    "        if total_time_diff > 0: # 1분 이상 차이 날 경우\n",
    "            new_ohlcv = binance.fetch_ohlcv(\n",
    "                f'{coin}', \n",
    "                timeframe='1m',\n",
    "                params={\"startTime\":df.index[-1]},\n",
    "                limit=total_time_diff\n",
    "            )\n",
    "            new_df = pd.DataFrame(new_ohlcv, columns=['datetime','open','high','low','close','volume'])\n",
    "            Cal_DataFrame(new_df) # OHCLV 값 기반으로 계산\n",
    "            new_df['datetime'] = pd.to_datetime(new_df['datetime'], unit='ms') + datetime.timedelta(hours=9)\n",
    "            new_df.set_index('datetime',inplace=True)\n",
    "            df = pd.concat([df,new_df])\n",
    "#             print(f\"[{coin}] Update {total_time_diff} minutes\")\n",
    "        else: # 1분 이하로 초단위로 차이 날 경우, 맨 마지막 행 업데이트\n",
    "            new_ohlcv = binance.fetch_ohlcv(f'{coin}', timeframe='1m',limit=1)\n",
    "            new_df = pd.DataFrame(new_ohlcv, columns=['datetime','open','high','low','close','volume'])\n",
    "            Cal_DataFrame(new_df) # OHCLV 값 기반으로 계산\n",
    "            new_df['datetime'] = pd.to_datetime(new_df['datetime'], unit='ms') + datetime.timedelta(hours=9)\n",
    "            new_df.set_index('datetime',inplace=True)\n",
    "            df = pd.concat([df[:-1],new_df])\n",
    "#             print(f\"[{coin}] Update Under 1 minutes\")\n",
    "    else: # 파일이 존재하지 않을 경우\n",
    "        ### Data가 없을 때 1500개 1분봉 데이터 다운\n",
    "#         print(f\"[{coin}] New Data Saving . . .\")\n",
    "        ohlcv = binance.fetch_ohlcv(f'{coin}', timeframe='1m',limit=1500)\n",
    "        df = pd.DataFrame(ohlcv, columns=['datetime','open','high','low','close','volume'])\n",
    "        Cal_DataFrame(df) # OHCLV 값 기반으로 계산\n",
    "        df['datetime'] = pd.to_datetime(df['datetime'], unit='ms') + datetime.timedelta(hours=9)\n",
    "        df.set_index('datetime',inplace=True)\n",
    "        time.sleep(0.5)\n",
    "\n",
    "    df = df.loc[~df.index.duplicated(keep='last')] #최신행만 남겨두고 중복된 행 제거\n",
    "    df.to_excel(f'{os.path.join(save_path, file_name)}.xlsx') # 엑셀 데이터로 저장\n",
    "    \n",
    "    return df\n",
    "    \n",
    "def Cal_DataFrame(DataFrame): #[time, open, high, low, close, volume]\n",
    "    df = DataFrame\n",
    "    \n",
    "    # 가중치를 둔 거래대금\n",
    "    df['Cal_Value'] = (df['open']*0.20+df['high']*0.15+df['low']*0.15+df['close']*0.50)*df['volume']\n",
    "     \n",
    "\n",
    "    return df"
   ]
  },
  {
   "cell_type": "code",
   "execution_count": 2,
   "id": "930616a6",
   "metadata": {},
   "outputs": [
    {
     "name": "stdout",
     "output_type": "stream",
     "text": [
      "*-------------Start-------------*\n"
     ]
    },
    {
     "ename": "ValueError",
     "evalue": "invalid literal for int() with base 10: '2 days, 18'",
     "output_type": "error",
     "traceback": [
      "\u001b[1;31m---------------------------------------------------------------------------\u001b[0m",
      "\u001b[1;31mValueError\u001b[0m                                Traceback (most recent call last)",
      "\u001b[1;32m~\\AppData\\Local\\Temp/ipykernel_8548/1788124287.py\u001b[0m in \u001b[0;36m<module>\u001b[1;34m\u001b[0m\n\u001b[0;32m      6\u001b[0m \u001b[1;32mwhile\u001b[0m \u001b[1;32mTrue\u001b[0m\u001b[1;33m:\u001b[0m\u001b[1;33m\u001b[0m\u001b[1;33m\u001b[0m\u001b[0m\n\u001b[0;32m      7\u001b[0m     \u001b[1;32mfor\u001b[0m \u001b[0mcoin\u001b[0m \u001b[1;32min\u001b[0m \u001b[0mmarkets\u001b[0m\u001b[1;33m:\u001b[0m \u001b[1;31m# 코인 한개씩 조회\u001b[0m\u001b[1;33m\u001b[0m\u001b[1;33m\u001b[0m\u001b[0m\n\u001b[1;32m----> 8\u001b[1;33m         \u001b[0mdf\u001b[0m \u001b[1;33m=\u001b[0m \u001b[0mSave_and_Update_Data\u001b[0m\u001b[1;33m(\u001b[0m\u001b[0mcoin\u001b[0m\u001b[1;33m,\u001b[0m\u001b[0mpath\u001b[0m\u001b[1;33m)\u001b[0m \u001b[1;31m# 데이터 저장 및 업데이트\u001b[0m\u001b[1;33m\u001b[0m\u001b[1;33m\u001b[0m\u001b[0m\n\u001b[0m\u001b[0;32m      9\u001b[0m         \u001b[0mtime\u001b[0m\u001b[1;33m.\u001b[0m\u001b[0msleep\u001b[0m\u001b[1;33m(\u001b[0m\u001b[1;36m0.01\u001b[0m\u001b[1;33m)\u001b[0m\u001b[1;33m\u001b[0m\u001b[1;33m\u001b[0m\u001b[0m\n\u001b[0;32m     10\u001b[0m     \u001b[1;32mbreak\u001b[0m\u001b[1;33m\u001b[0m\u001b[1;33m\u001b[0m\u001b[0m\n",
      "\u001b[1;32m~\\AppData\\Local\\Temp/ipykernel_8548/2080477266.py\u001b[0m in \u001b[0;36mSave_and_Update_Data\u001b[1;34m(coin, save_path)\u001b[0m\n\u001b[0;32m     21\u001b[0m         \u001b[0mnow\u001b[0m \u001b[1;33m=\u001b[0m \u001b[0mdatetime\u001b[0m\u001b[1;33m.\u001b[0m\u001b[0mdatetime\u001b[0m\u001b[1;33m.\u001b[0m\u001b[0mstrptime\u001b[0m\u001b[1;33m(\u001b[0m\u001b[0mnow\u001b[0m\u001b[1;33m,\u001b[0m \u001b[1;34mf'%Y-%m-%d %H:%M:00'\u001b[0m\u001b[1;33m)\u001b[0m\u001b[1;33m\u001b[0m\u001b[1;33m\u001b[0m\u001b[0m\n\u001b[0;32m     22\u001b[0m         \u001b[0mdiff\u001b[0m \u001b[1;33m=\u001b[0m \u001b[0mstr\u001b[0m\u001b[1;33m(\u001b[0m\u001b[0mnow\u001b[0m\u001b[1;33m-\u001b[0m\u001b[0mpast\u001b[0m\u001b[1;33m)\u001b[0m\u001b[1;33m\u001b[0m\u001b[1;33m\u001b[0m\u001b[0m\n\u001b[1;32m---> 23\u001b[1;33m         \u001b[0mh\u001b[0m\u001b[1;33m,\u001b[0m \u001b[0mm\u001b[0m\u001b[1;33m,\u001b[0m \u001b[0ms\u001b[0m \u001b[1;33m=\u001b[0m \u001b[0mlist\u001b[0m\u001b[1;33m(\u001b[0m\u001b[0mmap\u001b[0m\u001b[1;33m(\u001b[0m\u001b[0mint\u001b[0m\u001b[1;33m,\u001b[0m \u001b[0mdiff\u001b[0m\u001b[1;33m.\u001b[0m\u001b[0msplit\u001b[0m\u001b[1;33m(\u001b[0m\u001b[1;34m\":\"\u001b[0m\u001b[1;33m)\u001b[0m\u001b[1;33m)\u001b[0m\u001b[1;33m)\u001b[0m\u001b[1;33m\u001b[0m\u001b[1;33m\u001b[0m\u001b[0m\n\u001b[0m\u001b[0;32m     24\u001b[0m         \u001b[0mtotal_time_diff\u001b[0m \u001b[1;33m=\u001b[0m \u001b[1;33m(\u001b[0m\u001b[0mh\u001b[0m \u001b[1;33m*\u001b[0m \u001b[1;36m60\u001b[0m\u001b[1;33m)\u001b[0m \u001b[1;33m+\u001b[0m \u001b[0mm\u001b[0m \u001b[1;33m+\u001b[0m \u001b[0ms\u001b[0m \u001b[1;31m# 분으로 환산\u001b[0m\u001b[1;33m\u001b[0m\u001b[1;33m\u001b[0m\u001b[0m\n\u001b[0;32m     25\u001b[0m         \u001b[0mtotal_time_diff\u001b[0m\u001b[1;33m\u001b[0m\u001b[1;33m\u001b[0m\u001b[0m\n",
      "\u001b[1;31mValueError\u001b[0m: invalid literal for int() with base 10: '2 days, 18'"
     ]
    }
   ],
   "source": [
    "# 메인\n",
    "markets = [x for x in binance.fetch_tickers().keys() if x.endswith(\"/USDT\")] # 선물 마켓 시장 티커 전부 가져오기\n",
    "path = os.path.join(os.getcwd(),\"Save Data\") # 데이터 저장 위치\n",
    "\n",
    "print(\"*-------------Start-------------*\")\n",
    "while True:\n",
    "    for coin in markets: # 코인 한개씩 조회\n",
    "        df = Save_and_Update_Data(coin,path) # 데이터 저장 및 업데이트\n",
    "        time.sleep(0.01)\n",
    "    break\n",
    "    \n",
    "print(\"*--------------End--------------*\")"
   ]
  },
  {
   "cell_type": "code",
   "execution_count": null,
   "id": "4a8a33b1",
   "metadata": {},
   "outputs": [],
   "source": []
  },
  {
   "cell_type": "code",
   "execution_count": 181,
   "id": "a2811bef",
   "metadata": {},
   "outputs": [],
   "source": []
  },
  {
   "cell_type": "code",
   "execution_count": null,
   "id": "6bc66619",
   "metadata": {},
   "outputs": [],
   "source": []
  },
  {
   "cell_type": "code",
   "execution_count": 195,
   "id": "4c49fccc",
   "metadata": {},
   "outputs": [
    {
     "data": {
      "text/plain": [
       "142"
      ]
     },
     "execution_count": 195,
     "metadata": {},
     "output_type": "execute_result"
    }
   ],
   "source": [
    "len(markets)"
   ]
  },
  {
   "cell_type": "code",
   "execution_count": null,
   "id": "1eeacaed",
   "metadata": {},
   "outputs": [],
   "source": []
  },
  {
   "cell_type": "code",
   "execution_count": null,
   "id": "38773084",
   "metadata": {},
   "outputs": [],
   "source": []
  },
  {
   "cell_type": "code",
   "execution_count": null,
   "id": "a870e343",
   "metadata": {},
   "outputs": [],
   "source": []
  },
  {
   "cell_type": "code",
   "execution_count": null,
   "id": "22b3edb9",
   "metadata": {},
   "outputs": [],
   "source": []
  },
  {
   "cell_type": "code",
   "execution_count": null,
   "id": "6c6567e9",
   "metadata": {},
   "outputs": [],
   "source": []
  },
  {
   "cell_type": "code",
   "execution_count": null,
   "id": "dc2b1176",
   "metadata": {},
   "outputs": [],
   "source": []
  },
  {
   "cell_type": "code",
   "execution_count": null,
   "id": "23d1b8db",
   "metadata": {},
   "outputs": [],
   "source": []
  },
  {
   "cell_type": "code",
   "execution_count": null,
   "id": "29458ae8",
   "metadata": {},
   "outputs": [],
   "source": []
  },
  {
   "cell_type": "code",
   "execution_count": null,
   "id": "46077e86",
   "metadata": {},
   "outputs": [],
   "source": []
  },
  {
   "cell_type": "code",
   "execution_count": null,
   "id": "36c8ee7d",
   "metadata": {},
   "outputs": [],
   "source": []
  },
  {
   "cell_type": "code",
   "execution_count": null,
   "id": "2f1ec88b",
   "metadata": {},
   "outputs": [],
   "source": []
  }
 ],
 "metadata": {
  "kernelspec": {
   "display_name": "Python 3 (ipykernel)",
   "language": "python",
   "name": "python3"
  },
  "language_info": {
   "codemirror_mode": {
    "name": "ipython",
    "version": 3
   },
   "file_extension": ".py",
   "mimetype": "text/x-python",
   "name": "python",
   "nbconvert_exporter": "python",
   "pygments_lexer": "ipython3",
   "version": "3.9.7"
  }
 },
 "nbformat": 4,
 "nbformat_minor": 5
}
