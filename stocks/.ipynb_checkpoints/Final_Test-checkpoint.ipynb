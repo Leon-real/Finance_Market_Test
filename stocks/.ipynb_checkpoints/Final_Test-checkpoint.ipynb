{
 "cells": [
  {
   "cell_type": "code",
   "execution_count": 25,
   "id": "54fe2aaf",
   "metadata": {},
   "outputs": [],
   "source": [
    "import pyupbit\n",
    "import numpy as np\n",
    "import pandas as pd\n",
    "import time\n",
    "import datetime\n",
    "import os\n",
    "\n",
    "access = \"d2jIWmUGBcxFWTaBmD7QENGvakioE2nN8pIdQwIK\"          # 본인 값으로 변경\n",
    "secret = \"IVHad2QIT5Ee5b5xZ6HC1CwMyQcRjB8SBKPzQjak\"          # 본인 값으로 변경\n",
    "upbit = pyupbit.Upbit(access, secret)\n",
    "\n",
    "# 10분당 거래대금 상위 10개 코인 가져오기\n",
    "def Top_n_Value(n):\n",
    "    start = time.time()\n",
    "    # 10분당 거래대금 상위 10개 코인 가져오기\n",
    "    result = []\n",
    "    coin_lists = []\n",
    "    for t in pyupbit.get_tickers(fiat='KRW'): \n",
    "        volumes = (t, pyupbit.get_ohlcv(ticker=t, count=1, interval=\"minute60\")['value'].values[0] )\n",
    "        result.append(volumes)\n",
    "        time.sleep(0.08)\n",
    "\n",
    "    result.sort(key=lambda x:x[1], reverse=True)\n",
    "    for i in result[:n]: # 상위 몇개 가져올건지\n",
    "        coin_lists.append(i[0])\n",
    "    print(\"time :\", time.time() - start)\n",
    "    return coin_lists"
   ]
  },
  {
   "cell_type": "code",
   "execution_count": 26,
   "id": "cb4f331e",
   "metadata": {},
   "outputs": [
    {
     "name": "stdout",
     "output_type": "stream",
     "text": [
      "time : 14.38382601737976\n",
      "['KRW-SAND', 'KRW-ETC', 'KRW-WAVES', 'KRW-KAVA', 'KRW-ETH']\n"
     ]
    }
   ],
   "source": [
    "coins = Top_n_Value(5) # 상위 5개 거래 대금의 코인 가져오기\n",
    "print(coins)"
   ]
  },
  {
   "cell_type": "code",
   "execution_count": 8,
   "id": "2d0cc6d7",
   "metadata": {},
   "outputs": [
    {
     "name": "stdout",
     "output_type": "stream",
     "text": [
      "499750.44381392\n"
     ]
    }
   ],
   "source": [
    "print(upbit.get_balance(\"KRW\")) "
   ]
  },
  {
   "cell_type": "code",
   "execution_count": 10,
   "id": "39ebe3b6",
   "metadata": {},
   "outputs": [],
   "source": [
    "my_lists=upbit.get_balances()"
   ]
  },
  {
   "cell_type": "code",
   "execution_count": 18,
   "id": "bfbc19c9",
   "metadata": {
    "collapsed": true
   },
   "outputs": [
    {
     "name": "stdout",
     "output_type": "stream",
     "text": [
      "BTC\n",
      "0.00456927\n",
      "33012226.2506\n",
      "KRW\n",
      "499750.44381392\n",
      "0\n",
      "TIX\n",
      "0.15414258\n",
      "4325\n",
      "TRX\n",
      "0\n",
      "91.7\n",
      "HORUS\n",
      "0.92433662\n",
      "0\n",
      "ADD\n",
      "0.46216831\n",
      "0\n",
      "MEETONE\n",
      "0.46216831\n",
      "0\n",
      "CHL\n",
      "1.84867324\n",
      "0\n",
      "BLACK\n",
      "0.92433662\n",
      "0\n",
      "LUNC\n",
      "0.00000004\n",
      "4789.2277\n",
      "XYM\n",
      "0.00000001\n",
      "0\n",
      "APENFT\n",
      "69682.0571808\n",
      "0\n"
     ]
    }
   ],
   "source": [
    "for my in my_lists:\n",
    "    print(my['currency']) # 화폐\n",
    "    print(my['balance']) # 수량\n",
    "    print(my['avg_buy_price']) # 평균 단가\n",
    "    \n",
    "    "
   ]
  },
  {
   "cell_type": "code",
   "execution_count": null,
   "id": "aaf490e0",
   "metadata": {},
   "outputs": [],
   "source": []
  },
  {
   "cell_type": "code",
   "execution_count": null,
   "id": "086230ba",
   "metadata": {},
   "outputs": [],
   "source": []
  },
  {
   "cell_type": "code",
   "execution_count": null,
   "id": "166d337b",
   "metadata": {},
   "outputs": [],
   "source": []
  }
 ],
 "metadata": {
  "kernelspec": {
   "display_name": "Python 3 (ipykernel)",
   "language": "python",
   "name": "python3"
  },
  "language_info": {
   "codemirror_mode": {
    "name": "ipython",
    "version": 3
   },
   "file_extension": ".py",
   "mimetype": "text/x-python",
   "name": "python",
   "nbconvert_exporter": "python",
   "pygments_lexer": "ipython3",
   "version": "3.9.7"
  }
 },
 "nbformat": 4,
 "nbformat_minor": 5
}
