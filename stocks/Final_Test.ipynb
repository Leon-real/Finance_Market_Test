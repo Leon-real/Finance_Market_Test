{
 "cells": [
  {
   "cell_type": "code",
   "execution_count": 25,
   "id": "bc13efb8",
   "metadata": {},
   "outputs": [],
   "source": [
    "import pyupbit\n",
    "import numpy as np\n",
    "import pandas as pd\n",
    "import time\n",
    "import datetime\n",
    "import os\n",
    "\n",
    "access = \"d2jIWmUGBcxFWTaBmD7QENGvakioE2nN8pIdQwIK\"          # 본인 값으로 변경\n",
    "secret = \"IVHad2QIT5Ee5b5xZ6HC1CwMyQcRjB8SBKPzQjak\"          # 본인 값으로 변경\n",
    "upbit = pyupbit.Upbit(access, secret)\n",
    "\n",
    "# 10분당 거래대금 상위 10개 코인 가져오기\n",
    "def Top_n_Value(n):\n",
    "    start = time.time()\n",
    "    # 10분당 거래대금 상위 10개 코인 가져오기\n",
    "    result = []\n",
    "    coin_lists = []\n",
    "    for t in pyupbit.get_tickers(fiat='KRW'): \n",
    "        volumes = (t, pyupbit.get_ohlcv(ticker=t, count=1, interval=\"minute60\")['value'].values[0] )\n",
    "        result.append(volumes)\n",
    "        time.sleep(0.08)\n",
    "\n",
    "    result.sort(key=lambda x:x[1], reverse=True)\n",
    "    for i in result[:n]: # 상위 몇개 가져올건지\n",
    "        coin_lists.append(i[0])\n",
    "    print(\"time :\", time.time() - start)\n",
    "    return coin_lists"
   ]
  },
  {
   "cell_type": "code",
   "execution_count": 44,
   "id": "6a54a74b",
   "metadata": {},
   "outputs": [
    {
     "name": "stdout",
     "output_type": "stream",
     "text": [
      "time : 14.550482749938965\n",
      "['KRW-SAND', 'KRW-ETC', 'KRW-WAVES', 'KRW-ETH', 'KRW-KAVA']\n"
     ]
    }
   ],
   "source": [
    "coins = Top_n_Value(5) # 상위 5개 거래 대금의 코인 가져오기\n",
    "print(coins)"
   ]
  },
  {
   "cell_type": "code",
   "execution_count": 8,
   "id": "6eb6be14",
   "metadata": {},
   "outputs": [
    {
     "name": "stdout",
     "output_type": "stream",
     "text": [
      "499750.44381392\n"
     ]
    }
   ],
   "source": [
    "print(upbit.get_balance(\"KRW\")) "
   ]
  },
  {
   "cell_type": "code",
   "execution_count": 33,
   "id": "d9515007",
   "metadata": {},
   "outputs": [],
   "source": []
  },
  {
   "cell_type": "code",
   "execution_count": 42,
   "id": "ff1bd2c3",
   "metadata": {},
   "outputs": [
    {
     "name": "stdout",
     "output_type": "stream",
     "text": [
      "BTC\n",
      "0.00456927\n",
      "33012226.2506\n",
      "TIX\n",
      "0.15414258\n",
      "4325\n",
      "LUNC\n",
      "0.00000004\n",
      "4789.2277\n"
     ]
    }
   ],
   "source": [
    "my_lists=upbit.get_balances()\n",
    "\n",
    "for my in my_lists:\n",
    "    if (float(my['avg_buy_price'])*float(my['balance'])) > 0:\n",
    "        print(my['currency']) # 화폐\n",
    "        print(my['balance']) # 수량\n",
    "        print(my['avg_buy_price']) # 평균 단가\n",
    "    "
   ]
  },
  {
   "cell_type": "code",
   "execution_count": 43,
   "id": "50dc0ecb",
   "metadata": {},
   "outputs": [
    {
     "data": {
      "text/plain": [
       "['KRW-SAND', 'KRW-ETC', 'KRW-WAVES', 'KRW-KAVA', 'KRW-ETH']"
      ]
     },
     "execution_count": 43,
     "metadata": {},
     "output_type": "execute_result"
    }
   ],
   "source": []
  },
  {
   "cell_type": "code",
   "execution_count": null,
   "id": "de6d7e43",
   "metadata": {},
   "outputs": [],
   "source": []
  },
  {
   "cell_type": "code",
   "execution_count": null,
   "id": "df8936a1",
   "metadata": {},
   "outputs": [],
   "source": []
  }
 ],
 "metadata": {
  "kernelspec": {
   "display_name": "Python 3 (ipykernel)",
   "language": "python",
   "name": "python3"
  },
  "language_info": {
   "codemirror_mode": {
    "name": "ipython",
    "version": 3
   },
   "file_extension": ".py",
   "mimetype": "text/x-python",
   "name": "python",
   "nbconvert_exporter": "python",
   "pygments_lexer": "ipython3",
   "version": "3.9.7"
  }
 },
 "nbformat": 4,
 "nbformat_minor": 5
}
